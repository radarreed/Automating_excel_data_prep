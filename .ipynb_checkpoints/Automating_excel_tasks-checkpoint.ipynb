{
 "cells": [
  {
   "cell_type": "markdown",
   "metadata": {},
   "source": [
    "# Automating excel files to databases"
   ]
  },
  {
   "cell_type": "markdown",
   "metadata": {},
   "source": [
    "### Overview:"
   ]
  },
  {
   "cell_type": "markdown",
   "metadata": {},
   "source": [
    "Using some test data obtained from the International Coffee Organization (ICO), I have created two workflows which transform these excel reports into the third normal form of data used for databases. This jupyter notebook will feature the method using python.\n",
    "\n",
    "The end result is a five seperate csv files for the time series data and one file for the country attributes. Depending on how this data were to be consumed, the data could be further refined for an accounting journal entry, forecast, analyzed in a visualization software, or be dashboarded on the cloud using an approach susch as AWS using S3 -> Glue-> Athena-> Tableau. \n",
    "\n",
    "In four of the five data sets taken from the ICO, the sum of the country values did not foot to their totals shown in the spreadsheet. I verified this by opening the excel files and manually summing the totals for each country as well as searching for hidden rows. I can only speculate as to why their totals did not sum properly since their totals were hard coded in the excel files and no explanation was provided. However, all the errors were between 1998 and 2012 and was likely an excel formula error and not intentional. \n",
    "\n",
    "Data can be found at:\n",
    "http://www.ico.org/new_historical.asp"
   ]
  },
  {
   "cell_type": "markdown",
   "metadata": {},
   "source": [
    "### Background:"
   ]
  },
  {
   "cell_type": "markdown",
   "metadata": {},
   "source": [
    "In my previous role as a financial analyst, my days were often spent executing a series of transformatative steps within an excel spreadsheet until I had a final product in the form of a report/dashboard, updated analysis, or source data for an accounting journal entry. These non-adhoc tasks have well documented steps, consistent source data, and are performed on a fixed schedule. Tasks like these are ripe for automation. Any solution will take the form of either a coded, no-code, or a blended approach with each having their pros and cons. Writing a scripted code in a language such as python offers more flexibility, however, it has a higher learning curve. No-code, propietary solutions such as Tableau Prep or Alteryx offer a more user friendly interface but less flexibility and a higher price tag. A no-code software solution also has the benefit of being less reliant on any one individual for their unique skills. In the event of attrition, another team member could more easily inheret the responsibilities of a no-code or blended workflow compared to a coded solution run outside of tableau (like a jupyter notebook). A blended solution is ideal and I beleive it to be the future, however, I have found Pytab (for Tableau) to have an overly complicated integration into the tableau environment. "
   ]
  },
  {
   "cell_type": "code",
   "execution_count": 20,
   "metadata": {},
   "outputs": [],
   "source": [
    "import pandas as pd\n",
    "import io\n",
    "import requests\n",
    "import re\n",
    "import numpy as np\n",
    "url=\"http://www.ico.org/historical/1990%20onwards/Excel/1a%20-%20Total%20production.xlsx\"\n",
    "#s=requests.get(url).content\n",
    "c=pd.read_excel(url, header=3) #Read in data to pandas and eliminate columns before the true headers "
   ]
  },
  {
   "cell_type": "code",
   "execution_count": 21,
   "metadata": {},
   "outputs": [],
   "source": [
    "c.columns = ['Country', 'Beans']+[x for x in c.columns for x in re.findall(r'^\\d{4}', x)] #Clean headers "
   ]
  },
  {
   "cell_type": "code",
   "execution_count": 22,
   "metadata": {},
   "outputs": [],
   "source": [
    "c = c.loc[c.iloc[:,2].isna()==False] #eliminate empty rows (white space)"
   ]
  },
  {
   "cell_type": "code",
   "execution_count": 23,
   "metadata": {},
   "outputs": [],
   "source": [
    "check_digit = c.loc[c.Country.str.contains('total', flags=re.I,regex=True),'1990':].sum() #used to tie out once finished"
   ]
  },
  {
   "cell_type": "code",
   "execution_count": 24,
   "metadata": {},
   "outputs": [],
   "source": [
    "c = c.loc[~c.Country.str.contains('total', flags=re.I,regex=True),:] #eliminate totals columns"
   ]
  },
  {
   "cell_type": "code",
   "execution_count": 25,
   "metadata": {},
   "outputs": [],
   "source": [
    "c.insert(1, 'Harvest_Month', np.nan) #Insert empty column to serve as destination for harvest_month"
   ]
  },
  {
   "cell_type": "code",
   "execution_count": 26,
   "metadata": {},
   "outputs": [],
   "source": [
    "x = c[c.Beans.isna()==True].index #Get indexes of subheaders\n",
    "c.loc[x,'Harvest_Month'] = c.Country.loc[c.Beans.isna()==True] #move subheaders to new column 'Harvest_Month'\n",
    "c.Harvest_Month = c.Harvest_Month.fillna(method='ffill') #forward fill harvest month assignments\n",
    "c.Harvest_Month = [x.split(' ')[0] for x in c.Harvest_Month] #remove the word 'group' (optional step)\n",
    "c = c.loc[~c.Country.str.contains('group', flags=re.I,regex=True),:] #drop total rows containing subheader"
   ]
  },
  {
   "cell_type": "markdown",
   "metadata": {},
   "source": [
    "As described previously, the provided totals in the source data do not match the source detail data. This an error on behalf of the ICO and not the script. The variances are shown below."
   ]
  },
  {
   "cell_type": "code",
   "execution_count": 27,
   "metadata": {},
   "outputs": [
    {
     "data": {
      "text/plain": [
       "1990       0.0\n",
       "1991       0.0\n",
       "1992       0.0\n",
       "1993       0.0\n",
       "1994       0.0\n",
       "1995       0.0\n",
       "1996       0.0\n",
       "1997       0.0\n",
       "1998    -163.0\n",
       "1999    -151.0\n",
       "2000    -197.0\n",
       "2001    -163.0\n",
       "2002   -1113.0\n",
       "2003   -1386.0\n",
       "2004   -1146.0\n",
       "2005    -622.0\n",
       "2006    -614.0\n",
       "2007    -621.0\n",
       "2008    -620.0\n",
       "2009    -610.0\n",
       "2010    -450.0\n",
       "2011    -500.0\n",
       "2012   -1250.0\n",
       "2013       0.0\n",
       "2014       0.0\n",
       "2015       0.0\n",
       "2016       0.0\n",
       "2017       0.0\n",
       "2018       0.0\n",
       "dtype: float64"
      ]
     },
     "execution_count": 27,
     "metadata": {},
     "output_type": "execute_result"
    }
   ],
   "source": [
    "c.iloc[:,3:].sum()-check_digit"
   ]
  },
  {
   "cell_type": "code",
   "execution_count": 28,
   "metadata": {},
   "outputs": [
    {
     "data": {
      "text/plain": [
       "0.0010000006295740604"
      ]
     },
     "execution_count": 28,
     "metadata": {},
     "output_type": "execute_result"
    }
   ],
   "source": [
    "c.iloc[:,3:].sum().sum()-3588429.34 #Manual sum of values in in excel to verify discrepency is not a result of the program"
   ]
  },
  {
   "cell_type": "code",
   "execution_count": 29,
   "metadata": {},
   "outputs": [],
   "source": [
    "#pivot years data to normalize\n",
    "c = c.set_index(list(c.iloc[:,:3].columns)).stack().reset_index().rename(columns={'level_3': 'Year', 0:'Value'}) #pivot years data to normalize"
   ]
  },
  {
   "cell_type": "code",
   "execution_count": 31,
   "metadata": {},
   "outputs": [
    {
     "data": {
      "text/html": [
       "<div>\n",
       "<style scoped>\n",
       "    .dataframe tbody tr th:only-of-type {\n",
       "        vertical-align: middle;\n",
       "    }\n",
       "\n",
       "    .dataframe tbody tr th {\n",
       "        vertical-align: top;\n",
       "    }\n",
       "\n",
       "    .dataframe thead th {\n",
       "        text-align: right;\n",
       "    }\n",
       "</style>\n",
       "<table border=\"1\" class=\"dataframe\">\n",
       "  <thead>\n",
       "    <tr style=\"text-align: right;\">\n",
       "      <th></th>\n",
       "      <th>Country</th>\n",
       "      <th>Harvest_Month</th>\n",
       "      <th>Beans</th>\n",
       "      <th>Year</th>\n",
       "      <th>Value</th>\n",
       "    </tr>\n",
       "  </thead>\n",
       "  <tbody>\n",
       "    <tr>\n",
       "      <th>0</th>\n",
       "      <td>Angola</td>\n",
       "      <td>April</td>\n",
       "      <td>(R/A)</td>\n",
       "      <td>1990</td>\n",
       "      <td>50.345</td>\n",
       "    </tr>\n",
       "    <tr>\n",
       "      <th>1</th>\n",
       "      <td>Angola</td>\n",
       "      <td>April</td>\n",
       "      <td>(R/A)</td>\n",
       "      <td>1991</td>\n",
       "      <td>79.331</td>\n",
       "    </tr>\n",
       "    <tr>\n",
       "      <th>2</th>\n",
       "      <td>Angola</td>\n",
       "      <td>April</td>\n",
       "      <td>(R/A)</td>\n",
       "      <td>1992</td>\n",
       "      <td>77.520</td>\n",
       "    </tr>\n",
       "    <tr>\n",
       "      <th>3</th>\n",
       "      <td>Angola</td>\n",
       "      <td>April</td>\n",
       "      <td>(R/A)</td>\n",
       "      <td>1993</td>\n",
       "      <td>32.608</td>\n",
       "    </tr>\n",
       "    <tr>\n",
       "      <th>4</th>\n",
       "      <td>Angola</td>\n",
       "      <td>April</td>\n",
       "      <td>(R/A)</td>\n",
       "      <td>1994</td>\n",
       "      <td>76.802</td>\n",
       "    </tr>\n",
       "  </tbody>\n",
       "</table>\n",
       "</div>"
      ],
      "text/plain": [
       "  Country Harvest_Month  Beans  Year   Value\n",
       "0  Angola         April  (R/A)  1990  50.345\n",
       "1  Angola         April  (R/A)  1991  79.331\n",
       "2  Angola         April  (R/A)  1992  77.520\n",
       "3  Angola         April  (R/A)  1993  32.608\n",
       "4  Angola         April  (R/A)  1994  76.802"
      ]
     },
     "execution_count": 31,
     "metadata": {},
     "output_type": "execute_result"
    }
   ],
   "source": [
    "c.head()"
   ]
  },
  {
   "cell_type": "code",
   "execution_count": 33,
   "metadata": {},
   "outputs": [
    {
     "data": {
      "text/html": [
       "<div>\n",
       "<style scoped>\n",
       "    .dataframe tbody tr th:only-of-type {\n",
       "        vertical-align: middle;\n",
       "    }\n",
       "\n",
       "    .dataframe tbody tr th {\n",
       "        vertical-align: top;\n",
       "    }\n",
       "\n",
       "    .dataframe thead th {\n",
       "        text-align: right;\n",
       "    }\n",
       "</style>\n",
       "<table border=\"1\" class=\"dataframe\">\n",
       "  <thead>\n",
       "    <tr style=\"text-align: right;\">\n",
       "      <th></th>\n",
       "      <th>Country</th>\n",
       "      <th>Year</th>\n",
       "      <th>Value</th>\n",
       "    </tr>\n",
       "  </thead>\n",
       "  <tbody>\n",
       "    <tr>\n",
       "      <th>0</th>\n",
       "      <td>Angola</td>\n",
       "      <td>1990</td>\n",
       "      <td>50.3450</td>\n",
       "    </tr>\n",
       "    <tr>\n",
       "      <th>1</th>\n",
       "      <td>Angola</td>\n",
       "      <td>1991</td>\n",
       "      <td>79.3310</td>\n",
       "    </tr>\n",
       "    <tr>\n",
       "      <th>2</th>\n",
       "      <td>Angola</td>\n",
       "      <td>1992</td>\n",
       "      <td>77.5200</td>\n",
       "    </tr>\n",
       "    <tr>\n",
       "      <th>3</th>\n",
       "      <td>Angola</td>\n",
       "      <td>1993</td>\n",
       "      <td>32.6080</td>\n",
       "    </tr>\n",
       "    <tr>\n",
       "      <th>4</th>\n",
       "      <td>Angola</td>\n",
       "      <td>1994</td>\n",
       "      <td>76.8020</td>\n",
       "    </tr>\n",
       "    <tr>\n",
       "      <th>...</th>\n",
       "      <td>...</td>\n",
       "      <td>...</td>\n",
       "      <td>...</td>\n",
       "    </tr>\n",
       "    <tr>\n",
       "      <th>1619</th>\n",
       "      <td>Yemen</td>\n",
       "      <td>2014</td>\n",
       "      <td>178.3814</td>\n",
       "    </tr>\n",
       "    <tr>\n",
       "      <th>1620</th>\n",
       "      <td>Yemen</td>\n",
       "      <td>2015</td>\n",
       "      <td>156.2460</td>\n",
       "    </tr>\n",
       "    <tr>\n",
       "      <th>1621</th>\n",
       "      <td>Yemen</td>\n",
       "      <td>2016</td>\n",
       "      <td>143.4533</td>\n",
       "    </tr>\n",
       "    <tr>\n",
       "      <th>1622</th>\n",
       "      <td>Yemen</td>\n",
       "      <td>2017</td>\n",
       "      <td>132.1281</td>\n",
       "    </tr>\n",
       "    <tr>\n",
       "      <th>1623</th>\n",
       "      <td>Yemen</td>\n",
       "      <td>2018</td>\n",
       "      <td>106.0735</td>\n",
       "    </tr>\n",
       "  </tbody>\n",
       "</table>\n",
       "<p>1624 rows × 3 columns</p>\n",
       "</div>"
      ],
      "text/plain": [
       "     Country  Year     Value\n",
       "0     Angola  1990   50.3450\n",
       "1     Angola  1991   79.3310\n",
       "2     Angola  1992   77.5200\n",
       "3     Angola  1993   32.6080\n",
       "4     Angola  1994   76.8020\n",
       "...      ...   ...       ...\n",
       "1619   Yemen  2014  178.3814\n",
       "1620   Yemen  2015  156.2460\n",
       "1621   Yemen  2016  143.4533\n",
       "1622   Yemen  2017  132.1281\n",
       "1623   Yemen  2018  106.0735\n",
       "\n",
       "[1624 rows x 3 columns]"
      ]
     },
     "execution_count": 33,
     "metadata": {},
     "output_type": "execute_result"
    }
   ],
   "source": [
    "#Here we split off to be Harvest month and beans to be normalization purists and save some cloud storage costs by eliminating data repitition\n",
    "d = c.iloc[:,:3] #drop year and value cols and create a country attribute table\n",
    "d = d.drop_duplicates(keep = 'first') #reduce to unique combinations\n",
    "c = c.drop(['Harvest_Month', 'Beans'], axis = 1) #drop country attribute variables to make purely time series table\n",
    "c"
   ]
  },
  {
   "cell_type": "markdown",
   "metadata": {},
   "source": [
    "# Automating the rest of the files more concisely"
   ]
  },
  {
   "cell_type": "markdown",
   "metadata": {},
   "source": [
    "In the approach below, I have pasted urls to the files. If the files were in a target folder, we could have easily looped through the folder contents to pull in all the files in that folder as well. Ultimately, I condensed the previous steps and placed them within a for loop to apply the procedures to each file. The code also saves each table into a dict as well as a csv file on my local drive. We could have uploaded the these files to an AWS S3 bucket as well within the loop using Boto3. "
   ]
  },
  {
   "cell_type": "code",
   "execution_count": 36,
   "metadata": {},
   "outputs": [],
   "source": [
    "Total_production = 'http://www.ico.org/historical/1990%20onwards/Excel/1a%20-%20Total%20production.xlsx'\n",
    "domestic_consumption = 'http://www.ico.org/historical/1990%20onwards/Excel/1b%20-%20Domestic%20consumption.xlsx'\n",
    "Exportable_production = 'http://www.ico.org/historical/1990%20onwards/Excel/1c%20-%20Exportable%20production.xlsx'\n",
    "Gross_opening_stocks = 'http://www.ico.org/historical/1990%20onwards/Excel/1d%20-%20Gross%20Opening%20stocks.xlsx'\n",
    "Exports = 'http://www.ico.org/historical/1990%20onwards/Excel/1e%20-%20Exports%20-%20crop%20year.xlsx'\n",
    "filelist = [Total_production, domestic_consumption, Exportable_production, Gross_opening_stocks, Exports]\n",
    "filenames = ['Total_production', 'domestic_consumption', 'Exportable_production', 'Gross_opening_stocks', 'Exports']"
   ]
  },
  {
   "cell_type": "code",
   "execution_count": 37,
   "metadata": {
    "scrolled": false
   },
   "outputs": [
    {
     "name": "stdout",
     "output_type": "stream",
     "text": [
      "Total_production variance: -9606.000000000466\n",
      "domestic_consumption variance: -4809.0\n",
      "Exportable_production variance: -4991.0\n",
      "Gross_opening_stocks variance: 0.0\n",
      "Exports variance: -113435.0064000003\n"
     ]
    }
   ],
   "source": [
    "path = 'C:/Users/erler/OneDrive/Documents/Random Data Sets/coffee/Finished/Python_method/'\n",
    "tables = {}\n",
    "for j,g in enumerate(filelist):    \n",
    "    c=pd.read_excel(g, header=3) #Read in data to pandas and eliminate columns before the true headers\n",
    "    c.columns = ['Country', 'Beans']+[x for x in c.columns for x in re.findall(r'^\\d{4}', x)] #Clean headers \n",
    "    c = c.loc[c.iloc[:,2].isna()==False] #eliminate empty rows (white space)\n",
    "    check_digit = c.loc[c.Country.str.contains('total', flags=re.I,regex=True),'1990':].sum() #used to tie out once finished\n",
    "    c = c.loc[~c.Country.str.contains('total', flags=re.I,regex=True),:] #eliminate totals columns\n",
    "    c.insert(1, 'Harvest_Month', np.nan) #Insert empty column to serve as destination for harvest_month\n",
    "    x = c[c.Beans.isna()==True].index #Get indexes of subheaders\n",
    "    c.loc[x,'Harvest_Month'] = c.Country.loc[c.Beans.isna()==True] #move subheaders to new column 'Harvest_Month'\n",
    "    c.Harvest_Month = c.Harvest_Month.fillna(method='ffill') #forward fill harvest month assignments\n",
    "    c.Harvest_Month = [x.split(' ')[0] for x in c.Harvest_Month] #remove the word 'group' (optional step)\n",
    "    c = c.loc[~c.Country.str.contains('group', flags=re.I,regex=True),:] #drop total rows containing subheader\n",
    "    c = c.set_index(list(c.iloc[:,:3].columns)).stack().reset_index().rename(columns={'level_3': 'Year', 0:'Value'}) #pivot years data to normalize\n",
    "    d = c.iloc[:,:3] #drop year and value cols and create a country attribute table\n",
    "    d = d.drop_duplicates(keep = 'first') #reduce to unique combinations\n",
    "    c = c.drop(['Harvest_Month', 'Beans'], axis = 1) #drop country attribute variables to make purely time series table\n",
    "    print(filenames[j]+' variance:', c.Value.sum()-check_digit.sum()) #check for variance\n",
    "    c.to_csv(path+str(filenames[j])+'.csv') #save to folder \n",
    "    tables[filenames[j]] = c #make dict of all tables"
   ]
  },
  {
   "cell_type": "code",
   "execution_count": 38,
   "metadata": {},
   "outputs": [
    {
     "data": {
      "text/html": [
       "<div>\n",
       "<style scoped>\n",
       "    .dataframe tbody tr th:only-of-type {\n",
       "        vertical-align: middle;\n",
       "    }\n",
       "\n",
       "    .dataframe tbody tr th {\n",
       "        vertical-align: top;\n",
       "    }\n",
       "\n",
       "    .dataframe thead th {\n",
       "        text-align: right;\n",
       "    }\n",
       "</style>\n",
       "<table border=\"1\" class=\"dataframe\">\n",
       "  <thead>\n",
       "    <tr style=\"text-align: right;\">\n",
       "      <th></th>\n",
       "      <th>Country</th>\n",
       "      <th>Year</th>\n",
       "      <th>Value</th>\n",
       "    </tr>\n",
       "  </thead>\n",
       "  <tbody>\n",
       "    <tr>\n",
       "      <th>0</th>\n",
       "      <td>Angola</td>\n",
       "      <td>1990</td>\n",
       "      <td>50.3450</td>\n",
       "    </tr>\n",
       "    <tr>\n",
       "      <th>1</th>\n",
       "      <td>Angola</td>\n",
       "      <td>1991</td>\n",
       "      <td>79.3310</td>\n",
       "    </tr>\n",
       "    <tr>\n",
       "      <th>2</th>\n",
       "      <td>Angola</td>\n",
       "      <td>1992</td>\n",
       "      <td>77.5200</td>\n",
       "    </tr>\n",
       "    <tr>\n",
       "      <th>3</th>\n",
       "      <td>Angola</td>\n",
       "      <td>1993</td>\n",
       "      <td>32.6080</td>\n",
       "    </tr>\n",
       "    <tr>\n",
       "      <th>4</th>\n",
       "      <td>Angola</td>\n",
       "      <td>1994</td>\n",
       "      <td>76.8020</td>\n",
       "    </tr>\n",
       "    <tr>\n",
       "      <th>...</th>\n",
       "      <td>...</td>\n",
       "      <td>...</td>\n",
       "      <td>...</td>\n",
       "    </tr>\n",
       "    <tr>\n",
       "      <th>1619</th>\n",
       "      <td>Yemen</td>\n",
       "      <td>2014</td>\n",
       "      <td>178.3814</td>\n",
       "    </tr>\n",
       "    <tr>\n",
       "      <th>1620</th>\n",
       "      <td>Yemen</td>\n",
       "      <td>2015</td>\n",
       "      <td>156.2460</td>\n",
       "    </tr>\n",
       "    <tr>\n",
       "      <th>1621</th>\n",
       "      <td>Yemen</td>\n",
       "      <td>2016</td>\n",
       "      <td>143.4533</td>\n",
       "    </tr>\n",
       "    <tr>\n",
       "      <th>1622</th>\n",
       "      <td>Yemen</td>\n",
       "      <td>2017</td>\n",
       "      <td>132.1281</td>\n",
       "    </tr>\n",
       "    <tr>\n",
       "      <th>1623</th>\n",
       "      <td>Yemen</td>\n",
       "      <td>2018</td>\n",
       "      <td>106.0735</td>\n",
       "    </tr>\n",
       "  </tbody>\n",
       "</table>\n",
       "<p>1624 rows × 3 columns</p>\n",
       "</div>"
      ],
      "text/plain": [
       "     Country  Year     Value\n",
       "0     Angola  1990   50.3450\n",
       "1     Angola  1991   79.3310\n",
       "2     Angola  1992   77.5200\n",
       "3     Angola  1993   32.6080\n",
       "4     Angola  1994   76.8020\n",
       "...      ...   ...       ...\n",
       "1619   Yemen  2014  178.3814\n",
       "1620   Yemen  2015  156.2460\n",
       "1621   Yemen  2016  143.4533\n",
       "1622   Yemen  2017  132.1281\n",
       "1623   Yemen  2018  106.0735\n",
       "\n",
       "[1624 rows x 3 columns]"
      ]
     },
     "execution_count": 38,
     "metadata": {},
     "output_type": "execute_result"
    }
   ],
   "source": [
    "tables['Total_production'] #dict of tables"
   ]
  },
  {
   "cell_type": "code",
   "execution_count": null,
   "metadata": {},
   "outputs": [],
   "source": []
  }
 ],
 "metadata": {
  "kernelspec": {
   "display_name": "Python 3",
   "language": "python",
   "name": "python3"
  },
  "language_info": {
   "codemirror_mode": {
    "name": "ipython",
    "version": 3
   },
   "file_extension": ".py",
   "mimetype": "text/x-python",
   "name": "python",
   "nbconvert_exporter": "python",
   "pygments_lexer": "ipython3",
   "version": "3.7.6"
  }
 },
 "nbformat": 4,
 "nbformat_minor": 4
}
